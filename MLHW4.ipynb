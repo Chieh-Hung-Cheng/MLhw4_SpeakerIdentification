{
 "cells": [
  {
   "cell_type": "code",
   "execution_count": 1,
   "outputs": [
    {
     "name": "stdout",
     "output_type": "stream",
     "text": [
      "Imports Done\n"
     ]
    }
   ],
   "source": [
    "# IMPORTS\n",
    "# Numerical Operations\n",
    "import math\n",
    "import numpy as np\n",
    "\n",
    "# Reading/Writing Data\n",
    "import pandas as pd\n",
    "import os\n",
    "import csv\n",
    "\n",
    "# For Progress Bar\n",
    "from tqdm import tqdm\n",
    "\n",
    "# Pytorch\n",
    "import torch\n",
    "import torch.nn as nn\n",
    "from torch.utils.data import Dataset, DataLoader, random_split\n",
    "\n",
    "# For plotting learning curve\n",
    "from torch.utils.tensorboard import SummaryWriter\n",
    "\n",
    "# Other Common Modules\n",
    "from datetime import datetime, timedelta\n",
    "import importlib\n",
    "\n",
    "# IMPORT COMPLETE\n",
    "print(\"Imports Done\")"
   ],
   "metadata": {
    "collapsed": false,
    "pycharm": {
     "name": "#%%\n"
    }
   }
  },
  {
   "cell_type": "code",
   "execution_count": 2,
   "outputs": [
    {
     "name": "stdout",
     "output_type": "stream",
     "text": [
      "Running on Local\n"
     ]
    }
   ],
   "source": [
    "local_flag = None\n",
    "if 'google.colab' in str(get_ipython()):\n",
    "    print('Running on CoLab')\n",
    "    local_flag = False\n",
    "    from google.colab import drive\n",
    "    drive.mount('/content/drive')\n",
    "    os.chdir(\"/content/drive/MyDrive/Chronical/2023Spring/ML_drive/MLHW4/\")\n",
    "\n",
    "else:\n",
    "    print('Running on Local')\n",
    "    local_flag = True"
   ],
   "metadata": {
    "collapsed": false,
    "pycharm": {
     "name": "#%%\n"
    }
   }
  },
  {
   "cell_type": "code",
   "execution_count": 3,
   "outputs": [],
   "source": [
    "import Config\n",
    "importlib.reload(Config)\n",
    "from Config import Config"
   ],
   "metadata": {
    "pycharm": {
     "name": "#%%\n"
    },
    "id": "U_nihHSPUAQT",
    "executionInfo": {
     "status": "aborted",
     "timestamp": 1688984385399,
     "user_tz": -480,
     "elapsed": 5,
     "user": {
      "displayName": "Chieh-Hung Cheng",
      "userId": "08338419796432546381"
     }
    }
   }
  },
  {
   "cell_type": "code",
   "execution_count": 4,
   "outputs": [
    {
     "name": "stdout",
     "output_type": "stream",
     "text": [
      "Config.base_path='G:\\\\My Drive\\\\Chronical\\\\2023Spring\\\\ML_drive\\\\MLHW4'\n",
      "Config.data_path='D:\\\\ML_Dataset\\\\HW4\\\\Dataset'\n",
      "Config.save_path='G:\\\\My Drive\\\\Chronical\\\\2023Spring\\\\ML_drive\\\\MLHW4\\\\.model'\n",
      "Config.output_path='G:\\\\My Drive\\\\Chronical\\\\2023Spring\\\\ML_drive\\\\MLHW4\\\\output'\n",
      "Config.time_string='16480716'\n",
      "Randomness Fixed\n"
     ]
    }
   ],
   "source": [
    "# RANDOMNESS FIXED\n",
    "import Utils\n",
    "importlib.reload(Utils)\n",
    "from Utils import Utils\n",
    "Utils.initialize_time_path(local_flag)\n",
    "Utils.fix_randomness()"
   ],
   "metadata": {
    "pycharm": {
     "name": "#%%\n"
    },
    "id": "48NI2CbKUAQU",
    "executionInfo": {
     "status": "aborted",
     "timestamp": 1688984385400,
     "user_tz": -480,
     "elapsed": 6,
     "user": {
      "displayName": "Chieh-Hung Cheng",
      "userId": "08338419796432546381"
     }
    }
   }
  },
  {
   "cell_type": "markdown",
   "source": [
    "# Dataset and DataLoader"
   ],
   "metadata": {
    "collapsed": false,
    "pycharm": {
     "name": "#%% md\n"
    },
    "id": "_IC-wBLQUAQU"
   }
  },
  {
   "cell_type": "code",
   "execution_count": 5,
   "outputs": [
    {
     "data": {
      "text/plain": "<module 'SpeakerData' from 'G:\\\\My Drive\\\\Chronical\\\\2023Spring\\\\ML_drive\\\\MLHW4\\\\SpeakerData.py'>"
     },
     "execution_count": 5,
     "metadata": {},
     "output_type": "execute_result"
    }
   ],
   "source": [
    "import SpeakerData\n",
    "importlib.reload(SpeakerData)"
   ],
   "metadata": {
    "pycharm": {
     "name": "#%%\n"
    },
    "id": "JJI8aQsaUAQV",
    "executionInfo": {
     "status": "aborted",
     "timestamp": 1688984385400,
     "user_tz": -480,
     "elapsed": 6,
     "user": {
      "displayName": "Chieh-Hung Cheng",
      "userId": "08338419796432546381"
     }
    }
   }
  },
  {
   "cell_type": "code",
   "execution_count": 6,
   "outputs": [],
   "source": [
    "train_dataset = SpeakerData.SpeakerTrainValidDataset()\n",
    "train_dataset, valid_dataset = Utils.split_train_valid_dataset(train_dataset)"
   ],
   "metadata": {
    "collapsed": false,
    "pycharm": {
     "name": "#%%\n"
    }
   }
  },
  {
   "cell_type": "code",
   "execution_count": 7,
   "outputs": [
    {
     "name": "stdout",
     "output_type": "stream",
     "text": [
      "Train, Valid DataLoader Complete\n"
     ]
    }
   ],
   "source": [
    "Utils.set_train_valid_loader(train_dataset, valid_dataset, SpeakerData.collate_function)"
   ],
   "metadata": {
    "pycharm": {
     "name": "#%%\n"
    },
    "id": "x4IG9ty3UAQW",
    "executionInfo": {
     "status": "aborted",
     "timestamp": 1688984385401,
     "user_tz": -480,
     "elapsed": 7,
     "user": {
      "displayName": "Chieh-Hung Cheng",
      "userId": "08338419796432546381"
     }
    }
   }
  },
  {
   "cell_type": "markdown",
   "source": [
    "# Models"
   ],
   "metadata": {
    "collapsed": false,
    "pycharm": {
     "name": "#%% md\n"
    },
    "id": "wOeXJ6rBUAQW"
   }
  },
  {
   "cell_type": "code",
   "execution_count": 8,
   "outputs": [
    {
     "data": {
      "text/plain": "<module 'SpeakerClassifier' from 'G:\\\\My Drive\\\\Chronical\\\\2023Spring\\\\ML_drive\\\\MLHW4\\\\SpeakerClassifier.py'>"
     },
     "execution_count": 8,
     "metadata": {},
     "output_type": "execute_result"
    }
   ],
   "source": [
    "import SpeakerClassifier\n",
    "importlib.reload(SpeakerClassifier)"
   ],
   "metadata": {
    "pycharm": {
     "name": "#%%\n"
    },
    "id": "8tQsWjDaUAQX",
    "executionInfo": {
     "status": "aborted",
     "timestamp": 1688984385401,
     "user_tz": -480,
     "elapsed": 7,
     "user": {
      "displayName": "Chieh-Hung Cheng",
      "userId": "08338419796432546381"
     }
    }
   }
  },
  {
   "cell_type": "code",
   "execution_count": 9,
   "outputs": [
    {
     "name": "stdout",
     "output_type": "stream",
     "text": [
      "Training a new model...\n",
      "Model, Criterion, Optimizer Complete\n"
     ]
    }
   ],
   "source": [
    "Utils.set_model_related(SpeakerClassifier.SpeakerClassifier)"
   ],
   "metadata": {
    "pycharm": {
     "name": "#%%\n"
    },
    "id": "CtY8bSw2UAQX",
    "executionInfo": {
     "status": "aborted",
     "timestamp": 1688984385401,
     "user_tz": -480,
     "elapsed": 7,
     "user": {
      "displayName": "Chieh-Hung Cheng",
      "userId": "08338419796432546381"
     }
    }
   }
  },
  {
   "cell_type": "code",
   "execution_count": 10,
   "outputs": [
    {
     "data": {
      "text/plain": "SpeakerClassifier(\n  (net): Sequential(\n    (0): Linear(in_features=40, out_features=80, bias=True)\n    (1): ConformerBlock(\n      (linear_layer): Linear(in_features=80, out_features=80, bias=True)\n      (MHSA_M): MHSA_Module(\n        (layernorm): LayerNorm((80,), eps=1e-05, elementwise_affine=True)\n        (attention): MultiheadAttention(\n          (out_proj): NonDynamicallyQuantizableLinear(in_features=80, out_features=80, bias=True)\n        )\n        (query_matrix): Linear(in_features=80, out_features=80, bias=True)\n        (key_matrix): Linear(in_features=80, out_features=80, bias=True)\n        (value_matrix): Linear(in_features=80, out_features=80, bias=True)\n        (dropout): Dropout(p=0.5, inplace=False)\n      )\n      (conv_module): ConvolutionModule(\n        (layernorm): LayerNorm((80,), eps=1e-05, elementwise_affine=True)\n        (conv_pointwise_first): Conv1d(80, 160, kernel_size=(1,), stride=(1,))\n        (glu): GLU(dim=1)\n        (conv_depthwise): Conv1d(80, 80, kernel_size=(3,), stride=(1,), padding=(1,), groups=80)\n        (bn): BatchNorm1d(80, eps=1e-05, momentum=0.1, affine=True, track_running_stats=True)\n        (swish): SiLU()\n        (conv_pointwise_second): Conv1d(80, 80, kernel_size=(1,), stride=(1,))\n        (dropout): Dropout(p=0.5, inplace=False)\n      )\n      (layer_norm): LayerNorm((80,), eps=1e-05, elementwise_affine=True)\n    )\n  )\n  (fc): Sequential(\n    (0): Linear(in_features=80, out_features=80, bias=True)\n    (1): ReLU()\n    (2): Linear(in_features=80, out_features=600, bias=True)\n  )\n)"
     },
     "execution_count": 10,
     "metadata": {},
     "output_type": "execute_result"
    }
   ],
   "source": [
    "Config.model"
   ],
   "metadata": {
    "collapsed": false,
    "pycharm": {
     "name": "#%%\n"
    }
   }
  },
  {
   "cell_type": "markdown",
   "source": [
    "# Training"
   ],
   "metadata": {
    "collapsed": false,
    "pycharm": {
     "name": "#%% md\n"
    },
    "id": "VHEO6MBfUAQX"
   }
  },
  {
   "cell_type": "code",
   "execution_count": 11,
   "outputs": [
    {
     "data": {
      "text/plain": "<module 'Trainer' from 'G:\\\\My Drive\\\\Chronical\\\\2023Spring\\\\ML_drive\\\\MLHW4\\\\Trainer.py'>"
     },
     "execution_count": 11,
     "metadata": {},
     "output_type": "execute_result"
    }
   ],
   "source": [
    "import Trainer\n",
    "importlib.reload(Trainer)"
   ],
   "metadata": {
    "pycharm": {
     "name": "#%%\n"
    },
    "id": "_kHP97yOUAQX",
    "executionInfo": {
     "status": "aborted",
     "timestamp": 1688984385401,
     "user_tz": -480,
     "elapsed": 7,
     "user": {
      "displayName": "Chieh-Hung Cheng",
      "userId": "08338419796432546381"
     }
    }
   }
  },
  {
   "cell_type": "code",
   "execution_count": null,
   "outputs": [
    {
     "name": "stderr",
     "output_type": "stream",
     "text": [
      "Train model_16480716: 0/70000: 100%|██████████| 1593/1593 [00:21<00:00, 75.11it/s, train_loss=4.618] \n",
      "Valid model_16480716: 0/70000: 100%|██████████| 177/177 [00:07<00:00, 22.28it/s, valid_loss=4.726, valid_accuracy=10.222%]\n"
     ]
    },
    {
     "name": "stdout",
     "output_type": "stream",
     "text": [
      "train_loss=5.560, valid_loss=4.558, valid_accuracy=10.222%, best_accuracy=10.222%, strolling=0\n"
     ]
    },
    {
     "name": "stderr",
     "output_type": "stream",
     "text": [
      "Train model_16480716: 1/70000: 100%|██████████| 1593/1593 [00:17<00:00, 88.95it/s, train_loss=3.747] \n",
      "Valid model_16480716: 1/70000: 100%|██████████| 177/177 [00:07<00:00, 22.17it/s, valid_loss=3.571, valid_accuracy=19.827%]\n"
     ]
    },
    {
     "name": "stdout",
     "output_type": "stream",
     "text": [
      "train_loss=4.124, valid_loss=3.859, valid_accuracy=19.827%, best_accuracy=19.827%, strolling=0\n"
     ]
    },
    {
     "name": "stderr",
     "output_type": "stream",
     "text": [
      "Train model_16480716: 2/70000: 100%|██████████| 1593/1593 [00:19<00:00, 82.47it/s, train_loss=3.866] \n",
      "Valid model_16480716: 2/70000: 100%|██████████| 177/177 [00:08<00:00, 22.11it/s, valid_loss=4.067, valid_accuracy=25.388%]\n"
     ]
    },
    {
     "name": "stdout",
     "output_type": "stream",
     "text": [
      "train_loss=3.599, valid_loss=3.510, valid_accuracy=25.388%, best_accuracy=25.388%, strolling=0\n"
     ]
    },
    {
     "name": "stderr",
     "output_type": "stream",
     "text": [
      "Train model_16480716: 3/70000: 100%|██████████| 1593/1593 [00:18<00:00, 87.36it/s, train_loss=3.146] \n",
      "Valid model_16480716: 3/70000: 100%|██████████| 177/177 [00:08<00:00, 20.86it/s, valid_loss=2.917, valid_accuracy=29.944%] \n"
     ]
    },
    {
     "name": "stdout",
     "output_type": "stream",
     "text": [
      "train_loss=3.293, valid_loss=3.327, valid_accuracy=29.944%, best_accuracy=29.944%, strolling=0\n"
     ]
    },
    {
     "name": "stderr",
     "output_type": "stream",
     "text": [
      "Train model_16480716: 4/70000: 100%|██████████| 1593/1593 [00:19<00:00, 80.65it/s, train_loss=3.043] \n",
      "Valid model_16480716: 4/70000: 100%|██████████| 177/177 [00:08<00:00, 20.24it/s, valid_loss=3.068, valid_accuracy=31.903%]\n"
     ]
    },
    {
     "name": "stdout",
     "output_type": "stream",
     "text": [
      "train_loss=3.084, valid_loss=3.183, valid_accuracy=31.903%, best_accuracy=31.903%, strolling=0\n"
     ]
    },
    {
     "name": "stderr",
     "output_type": "stream",
     "text": [
      "Train model_16480716: 5/70000: 100%|██████████| 1593/1593 [00:23<00:00, 68.76it/s, train_loss=3.040] \n",
      "Valid model_16480716: 5/70000: 100%|██████████| 177/177 [00:09<00:00, 19.22it/s, valid_loss=3.028, valid_accuracy=35.717%]\n"
     ]
    },
    {
     "name": "stdout",
     "output_type": "stream",
     "text": [
      "train_loss=2.934, valid_loss=3.038, valid_accuracy=35.717%, best_accuracy=35.717%, strolling=0\n"
     ]
    },
    {
     "name": "stderr",
     "output_type": "stream",
     "text": [
      "Train model_16480716: 6/70000: 100%|██████████| 1593/1593 [00:23<00:00, 69.18it/s, train_loss=3.831] \n",
      "Valid model_16480716: 6/70000: 100%|██████████| 177/177 [00:09<00:00, 19.05it/s, valid_loss=2.313, valid_accuracy=35.805%]\n"
     ]
    },
    {
     "name": "stdout",
     "output_type": "stream",
     "text": [
      "train_loss=2.803, valid_loss=2.955, valid_accuracy=35.805%, best_accuracy=35.805%, strolling=0\n"
     ]
    },
    {
     "name": "stderr",
     "output_type": "stream",
     "text": [
      "Train model_16480716: 7/70000: 100%|██████████| 1593/1593 [00:22<00:00, 69.56it/s, train_loss=3.336] \n",
      "Valid model_16480716: 7/70000: 100%|██████████| 177/177 [00:09<00:00, 18.77it/s, valid_loss=2.675, valid_accuracy=37.341%]\n"
     ]
    },
    {
     "name": "stdout",
     "output_type": "stream",
     "text": [
      "train_loss=2.690, valid_loss=2.907, valid_accuracy=37.341%, best_accuracy=37.341%, strolling=0\n"
     ]
    },
    {
     "name": "stderr",
     "output_type": "stream",
     "text": [
      "Train model_16480716: 8/70000: 100%|██████████| 1593/1593 [00:20<00:00, 77.06it/s, train_loss=2.681] \n",
      "Valid model_16480716: 8/70000: 100%|██████████| 177/177 [00:08<00:00, 20.57it/s, valid_loss=2.449, valid_accuracy=39.795%]\n"
     ]
    },
    {
     "name": "stdout",
     "output_type": "stream",
     "text": [
      "train_loss=2.615, valid_loss=2.779, valid_accuracy=39.795%, best_accuracy=39.795%, strolling=0\n"
     ]
    },
    {
     "name": "stderr",
     "output_type": "stream",
     "text": [
      "Train model_16480716: 9/70000: 100%|██████████| 1593/1593 [00:23<00:00, 69.18it/s, train_loss=2.846] \n",
      "Valid model_16480716: 9/70000: 100%|██████████| 177/177 [00:09<00:00, 18.29it/s, valid_loss=2.300, valid_accuracy=40.272%]\n"
     ]
    },
    {
     "name": "stdout",
     "output_type": "stream",
     "text": [
      "train_loss=2.521, valid_loss=2.753, valid_accuracy=40.272%, best_accuracy=40.272%, strolling=0\n"
     ]
    },
    {
     "name": "stderr",
     "output_type": "stream",
     "text": [
      "Train model_16480716: 10/70000: 100%|██████████| 1593/1593 [00:23<00:00, 69.15it/s, train_loss=1.988] \n",
      "Valid model_16480716: 10/70000: 100%|██████████| 177/177 [00:10<00:00, 17.16it/s, valid_loss=3.042, valid_accuracy=41.931%]\n"
     ]
    },
    {
     "name": "stdout",
     "output_type": "stream",
     "text": [
      "train_loss=2.456, valid_loss=2.658, valid_accuracy=41.931%, best_accuracy=41.931%, strolling=0\n"
     ]
    },
    {
     "name": "stderr",
     "output_type": "stream",
     "text": [
      "Train model_16480716: 11/70000: 100%|██████████| 1593/1593 [00:22<00:00, 70.26it/s, train_loss=3.008] \n",
      "Valid model_16480716: 11/70000: 100%|██████████| 177/177 [00:09<00:00, 18.30it/s, valid_loss=3.310, valid_accuracy=42.708%]\n"
     ]
    },
    {
     "name": "stdout",
     "output_type": "stream",
     "text": [
      "train_loss=2.392, valid_loss=2.603, valid_accuracy=42.708%, best_accuracy=42.708%, strolling=0\n"
     ]
    },
    {
     "name": "stderr",
     "output_type": "stream",
     "text": [
      "Train model_16480716: 12/70000: 100%|██████████| 1593/1593 [00:23<00:00, 67.10it/s, train_loss=2.496] \n",
      "Valid model_16480716: 12/70000: 100%|██████████| 177/177 [00:09<00:00, 18.83it/s, valid_loss=3.114, valid_accuracy=44.315%]\n"
     ]
    },
    {
     "name": "stdout",
     "output_type": "stream",
     "text": [
      "train_loss=2.337, valid_loss=2.544, valid_accuracy=44.315%, best_accuracy=44.315%, strolling=0\n"
     ]
    },
    {
     "name": "stderr",
     "output_type": "stream",
     "text": [
      "Train model_16480716: 13/70000: 100%|██████████| 1593/1593 [00:25<00:00, 63.51it/s, train_loss=3.500] \n",
      "Valid model_16480716: 13/70000: 100%|██████████| 177/177 [00:10<00:00, 17.32it/s, valid_loss=2.693, valid_accuracy=44.845%]\n"
     ]
    },
    {
     "name": "stdout",
     "output_type": "stream",
     "text": [
      "train_loss=2.291, valid_loss=2.493, valid_accuracy=44.845%, best_accuracy=44.845%, strolling=0\n"
     ]
    },
    {
     "name": "stderr",
     "output_type": "stream",
     "text": [
      "Train model_16480716: 14/70000: 100%|██████████| 1593/1593 [00:21<00:00, 73.55it/s, train_loss=3.189] \n",
      "Valid model_16480716: 14/70000: 100%|██████████| 177/177 [00:09<00:00, 17.75it/s, valid_loss=2.456, valid_accuracy=45.092%]\n"
     ]
    },
    {
     "name": "stdout",
     "output_type": "stream",
     "text": [
      "train_loss=2.236, valid_loss=2.489, valid_accuracy=45.092%, best_accuracy=45.092%, strolling=0\n"
     ]
    },
    {
     "name": "stderr",
     "output_type": "stream",
     "text": [
      "Train model_16480716: 15/70000: 100%|██████████| 1593/1593 [00:23<00:00, 68.84it/s, train_loss=1.923] \n",
      "Valid model_16480716: 15/70000: 100%|██████████| 177/177 [00:09<00:00, 19.12it/s, valid_loss=2.569, valid_accuracy=46.504%]\n"
     ]
    },
    {
     "name": "stdout",
     "output_type": "stream",
     "text": [
      "train_loss=2.201, valid_loss=2.445, valid_accuracy=46.504%, best_accuracy=46.504%, strolling=0\n"
     ]
    },
    {
     "name": "stderr",
     "output_type": "stream",
     "text": [
      "Train model_16480716: 16/70000: 100%|██████████| 1593/1593 [00:22<00:00, 69.50it/s, train_loss=2.760] \n",
      "Valid model_16480716: 16/70000: 100%|██████████| 177/177 [00:09<00:00, 19.51it/s, valid_loss=2.461, valid_accuracy=46.787%]\n"
     ]
    },
    {
     "name": "stdout",
     "output_type": "stream",
     "text": [
      "train_loss=2.157, valid_loss=2.420, valid_accuracy=46.787%, best_accuracy=46.787%, strolling=0\n"
     ]
    },
    {
     "name": "stderr",
     "output_type": "stream",
     "text": [
      "Train model_16480716: 17/70000: 100%|██████████| 1593/1593 [00:23<00:00, 66.88it/s, train_loss=2.577] \n",
      "Valid model_16480716: 17/70000: 100%|██████████| 177/177 [00:09<00:00, 19.19it/s, valid_loss=2.348, valid_accuracy=48.129%]\n"
     ]
    },
    {
     "name": "stdout",
     "output_type": "stream",
     "text": [
      "train_loss=2.111, valid_loss=2.376, valid_accuracy=48.129%, best_accuracy=48.129%, strolling=0\n"
     ]
    },
    {
     "name": "stderr",
     "output_type": "stream",
     "text": [
      "Train model_16480716: 18/70000: 100%|██████████| 1593/1593 [00:23<00:00, 68.81it/s, train_loss=2.293] \n",
      "Valid model_16480716: 18/70000: 100%|██████████| 177/177 [00:09<00:00, 18.32it/s, valid_loss=2.340, valid_accuracy=49.965%]\n"
     ]
    },
    {
     "name": "stdout",
     "output_type": "stream",
     "text": [
      "train_loss=2.076, valid_loss=2.274, valid_accuracy=49.965%, best_accuracy=49.965%, strolling=0\n"
     ]
    },
    {
     "name": "stderr",
     "output_type": "stream",
     "text": [
      "Train model_16480716: 19/70000: 100%|██████████| 1593/1593 [01:27<00:00, 18.21it/s, train_loss=1.894]\n",
      "Valid model_16480716: 19/70000: 100%|██████████| 177/177 [00:23<00:00,  7.47it/s, valid_loss=2.512, valid_accuracy=49.347%]\n"
     ]
    },
    {
     "name": "stdout",
     "output_type": "stream",
     "text": [
      "train_loss=2.047, valid_loss=2.303, valid_accuracy=49.347%, best_accuracy=49.965%, strolling=1\n"
     ]
    },
    {
     "name": "stderr",
     "output_type": "stream",
     "text": [
      "Train model_16480716: 20/70000: 100%|██████████| 1593/1593 [00:42<00:00, 37.34it/s, train_loss=1.912]\n",
      "Valid model_16480716: 20/70000: 100%|██████████| 177/177 [00:09<00:00, 19.32it/s, valid_loss=2.044, valid_accuracy=49.241%]\n"
     ]
    },
    {
     "name": "stdout",
     "output_type": "stream",
     "text": [
      "train_loss=2.018, valid_loss=2.295, valid_accuracy=49.241%, best_accuracy=49.965%, strolling=2\n"
     ]
    },
    {
     "name": "stderr",
     "output_type": "stream",
     "text": [
      "Train model_16480716: 21/70000: 100%|██████████| 1593/1593 [00:22<00:00, 70.57it/s, train_loss=1.496] \n",
      "Valid model_16480716: 21/70000: 100%|██████████| 177/177 [00:08<00:00, 21.08it/s, valid_loss=1.638, valid_accuracy=50.689%]\n"
     ]
    },
    {
     "name": "stdout",
     "output_type": "stream",
     "text": [
      "train_loss=1.983, valid_loss=2.233, valid_accuracy=50.689%, best_accuracy=50.689%, strolling=0\n"
     ]
    },
    {
     "name": "stderr",
     "output_type": "stream",
     "text": [
      "Train model_16480716: 22/70000: 100%|██████████| 1593/1593 [00:22<00:00, 69.69it/s, train_loss=2.573] \n",
      "Valid model_16480716: 22/70000: 100%|██████████| 177/177 [00:09<00:00, 18.46it/s, valid_loss=2.373, valid_accuracy=51.483%]\n"
     ]
    },
    {
     "name": "stdout",
     "output_type": "stream",
     "text": [
      "train_loss=1.963, valid_loss=2.205, valid_accuracy=51.483%, best_accuracy=51.483%, strolling=0\n"
     ]
    },
    {
     "name": "stderr",
     "output_type": "stream",
     "text": [
      "Train model_16480716: 23/70000: 100%|██████████| 1593/1593 [00:33<00:00, 47.24it/s, train_loss=1.631]\n",
      "Valid model_16480716: 23/70000: 100%|██████████| 177/177 [00:10<00:00, 16.61it/s, valid_loss=2.407, valid_accuracy=50.883%]\n"
     ]
    },
    {
     "name": "stdout",
     "output_type": "stream",
     "text": [
      "train_loss=1.931, valid_loss=2.200, valid_accuracy=50.883%, best_accuracy=50.883%, strolling=0\n"
     ]
    },
    {
     "name": "stderr",
     "output_type": "stream",
     "text": [
      "Train model_16480716: 24/70000:  15%|█▌        | 239/1593 [00:10<00:15, 85.73it/s, train_loss=1.367]"
     ]
    }
   ],
   "source": [
    "trainer = Trainer.Trainer()\n",
    "trainer.train_loop()"
   ],
   "metadata": {
    "pycharm": {
     "name": "#%%\n",
     "is_executing": true
    },
    "id": "-EmCtJ6zUAQY",
    "executionInfo": {
     "status": "aborted",
     "timestamp": 1688984385402,
     "user_tz": -480,
     "elapsed": 8,
     "user": {
      "displayName": "Chieh-Hung Cheng",
      "userId": "08338419796432546381"
     }
    }
   }
  },
  {
   "cell_type": "markdown",
   "source": [
    "# Testing"
   ],
   "metadata": {
    "collapsed": false,
    "pycharm": {
     "name": "#%% md\n"
    },
    "id": "t8nSlf5pUAQY"
   }
  },
  {
   "cell_type": "code",
   "execution_count": null,
   "outputs": [],
   "source": [
    "import Inferencer\n",
    "importlib.reload(Inferencer)"
   ],
   "metadata": {
    "collapsed": false,
    "pycharm": {
     "name": "#%%\n"
    }
   }
  },
  {
   "cell_type": "code",
   "execution_count": null,
   "outputs": [],
   "source": [
    "test_dataset = SpeakerData.SpeakerTestDataset()"
   ],
   "metadata": {
    "collapsed": false,
    "pycharm": {
     "name": "#%%\n"
    }
   }
  },
  {
   "cell_type": "code",
   "execution_count": null,
   "outputs": [],
   "source": [
    "Config.set_test_loader(test_dataset, SpeakerData.test_collate_function)"
   ],
   "metadata": {
    "collapsed": false,
    "pycharm": {
     "name": "#%%\n"
    }
   }
  },
  {
   "cell_type": "code",
   "execution_count": null,
   "outputs": [],
   "source": [
    "Config.load_model(\"15010714\", SpeakerClassifier)\n",
    "inferencer = Inferencer.Inferencer()\n",
    "inferencer.infer()"
   ],
   "metadata": {
    "collapsed": false,
    "pycharm": {
     "name": "#%%\n"
    }
   }
  }
 ],
 "metadata": {
  "kernelspec": {
   "display_name": "Python 3",
   "language": "python",
   "name": "python3"
  },
  "language_info": {
   "codemirror_mode": {
    "name": "ipython",
    "version": 2
   },
   "file_extension": ".py",
   "mimetype": "text/x-python",
   "name": "python",
   "nbconvert_exporter": "python",
   "pygments_lexer": "ipython2",
   "version": "2.7.6"
  },
  "colab": {
   "provenance": []
  }
 },
 "nbformat": 4,
 "nbformat_minor": 0
}