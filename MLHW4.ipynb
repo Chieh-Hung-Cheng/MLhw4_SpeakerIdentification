{
 "cells": [
  {
   "cell_type": "code",
   "execution_count": 1,
   "outputs": [
    {
     "name": "stdout",
     "output_type": "stream",
     "text": [
      "Imports Done\n"
     ]
    }
   ],
   "source": [
    "# IMPORTS\n",
    "# Numerical Operations\n",
    "import math\n",
    "import numpy as np\n",
    "\n",
    "# Reading/Writing Data\n",
    "import pandas as pd\n",
    "import os\n",
    "import csv\n",
    "\n",
    "# For Progress Bar\n",
    "from tqdm import tqdm\n",
    "\n",
    "# Pytorch\n",
    "import torch\n",
    "import torch.nn as nn\n",
    "from torch.utils.data import Dataset, DataLoader, random_split\n",
    "\n",
    "# For plotting learning curve\n",
    "from torch.utils.tensorboard import SummaryWriter\n",
    "\n",
    "# Other Common Modules\n",
    "from datetime import datetime, timedelta\n",
    "import importlib\n",
    "\n",
    "# IMPORT COMPLETE\n",
    "print(\"Imports Done\")"
   ],
   "metadata": {
    "collapsed": false,
    "pycharm": {
     "name": "#%%\n"
    }
   }
  },
  {
   "cell_type": "code",
   "execution_count": 2,
   "outputs": [
    {
     "name": "stdout",
     "output_type": "stream",
     "text": [
      "Running on Local\n"
     ]
    }
   ],
   "source": [
    "local_flag = None\n",
    "if 'google.colab' in str(get_ipython()):\n",
    "    print('Running on CoLab')\n",
    "    local_flag = False\n",
    "    from google.colab import drive\n",
    "    drive.mount('/content/drive')\n",
    "    os.chdir(\"/content/drive/MyDrive/Chronical/2023Spring/ML_drive/MLHW4/\")\n",
    "\n",
    "else:\n",
    "    print('Running on Local')\n",
    "    local_flag = True"
   ],
   "metadata": {
    "collapsed": false,
    "pycharm": {
     "name": "#%%\n"
    }
   }
  },
  {
   "cell_type": "code",
   "execution_count": 3,
   "outputs": [],
   "source": [
    "import Config\n",
    "importlib.reload(Config)\n",
    "from Config import Config"
   ],
   "metadata": {
    "pycharm": {
     "name": "#%%\n"
    },
    "id": "U_nihHSPUAQT",
    "executionInfo": {
     "status": "aborted",
     "timestamp": 1688984385399,
     "user_tz": -480,
     "elapsed": 5,
     "user": {
      "displayName": "Chieh-Hung Cheng",
      "userId": "08338419796432546381"
     }
    }
   }
  },
  {
   "cell_type": "code",
   "execution_count": 4,
   "outputs": [
    {
     "name": "stdout",
     "output_type": "stream",
     "text": [
      "Config.base_path='G:\\\\My Drive\\\\Chronical\\\\2023Spring\\\\ML_drive\\\\MLHW4'\n",
      "Config.data_path='D:\\\\ML_Dataset\\\\HW4\\\\Dataset'\n",
      "Config.save_path='G:\\\\My Drive\\\\Chronical\\\\2023Spring\\\\ML_drive\\\\MLHW4\\\\.model'\n",
      "Config.output_path='G:\\\\My Drive\\\\Chronical\\\\2023Spring\\\\ML_drive\\\\MLHW4\\\\output'\n",
      "Config.time_string='19280716'\n",
      "Randomness Fixed\n"
     ]
    }
   ],
   "source": [
    "# RANDOMNESS FIXED\n",
    "import Utils\n",
    "importlib.reload(Utils)\n",
    "from Utils import Utils\n",
    "Utils.initialize_time_path(local_flag)\n",
    "Utils.fix_randomness()"
   ],
   "metadata": {
    "pycharm": {
     "name": "#%%\n"
    },
    "id": "48NI2CbKUAQU",
    "executionInfo": {
     "status": "aborted",
     "timestamp": 1688984385400,
     "user_tz": -480,
     "elapsed": 6,
     "user": {
      "displayName": "Chieh-Hung Cheng",
      "userId": "08338419796432546381"
     }
    }
   }
  },
  {
   "cell_type": "markdown",
   "source": [
    "# Dataset and DataLoader"
   ],
   "metadata": {
    "collapsed": false,
    "pycharm": {
     "name": "#%% md\n"
    },
    "id": "_IC-wBLQUAQU"
   }
  },
  {
   "cell_type": "code",
   "execution_count": 5,
   "outputs": [
    {
     "data": {
      "text/plain": "<module 'SpeakerData' from 'G:\\\\My Drive\\\\Chronical\\\\2023Spring\\\\ML_drive\\\\MLHW4\\\\SpeakerData.py'>"
     },
     "execution_count": 5,
     "metadata": {},
     "output_type": "execute_result"
    }
   ],
   "source": [
    "import SpeakerData\n",
    "importlib.reload(SpeakerData)"
   ],
   "metadata": {
    "pycharm": {
     "name": "#%%\n"
    },
    "id": "JJI8aQsaUAQV",
    "executionInfo": {
     "status": "aborted",
     "timestamp": 1688984385400,
     "user_tz": -480,
     "elapsed": 6,
     "user": {
      "displayName": "Chieh-Hung Cheng",
      "userId": "08338419796432546381"
     }
    }
   }
  },
  {
   "cell_type": "code",
   "execution_count": 6,
   "outputs": [],
   "source": [
    "train_dataset = SpeakerData.SpeakerTrainValidDataset()\n",
    "train_dataset, valid_dataset = Utils.split_train_valid_dataset(train_dataset)"
   ],
   "metadata": {
    "collapsed": false,
    "pycharm": {
     "name": "#%%\n"
    }
   }
  },
  {
   "cell_type": "code",
   "execution_count": 7,
   "outputs": [
    {
     "name": "stdout",
     "output_type": "stream",
     "text": [
      "Train, Valid DataLoader Complete\n"
     ]
    }
   ],
   "source": [
    "Utils.set_train_valid_loader(train_dataset, valid_dataset, SpeakerData.collate_function)"
   ],
   "metadata": {
    "pycharm": {
     "name": "#%%\n"
    },
    "id": "x4IG9ty3UAQW",
    "executionInfo": {
     "status": "aborted",
     "timestamp": 1688984385401,
     "user_tz": -480,
     "elapsed": 7,
     "user": {
      "displayName": "Chieh-Hung Cheng",
      "userId": "08338419796432546381"
     }
    }
   }
  },
  {
   "cell_type": "markdown",
   "source": [
    "# Models"
   ],
   "metadata": {
    "collapsed": false,
    "pycharm": {
     "name": "#%% md\n"
    },
    "id": "wOeXJ6rBUAQW"
   }
  },
  {
   "cell_type": "code",
   "execution_count": 8,
   "outputs": [
    {
     "data": {
      "text/plain": "<module 'SpeakerClassifier' from 'G:\\\\My Drive\\\\Chronical\\\\2023Spring\\\\ML_drive\\\\MLHW4\\\\SpeakerClassifier.py'>"
     },
     "execution_count": 8,
     "metadata": {},
     "output_type": "execute_result"
    }
   ],
   "source": [
    "import SpeakerClassifier\n",
    "importlib.reload(SpeakerClassifier)"
   ],
   "metadata": {
    "pycharm": {
     "name": "#%%\n"
    },
    "id": "8tQsWjDaUAQX",
    "executionInfo": {
     "status": "aborted",
     "timestamp": 1688984385401,
     "user_tz": -480,
     "elapsed": 7,
     "user": {
      "displayName": "Chieh-Hung Cheng",
      "userId": "08338419796432546381"
     }
    }
   }
  },
  {
   "cell_type": "code",
   "execution_count": 9,
   "outputs": [
    {
     "name": "stdout",
     "output_type": "stream",
     "text": [
      "Training a new model are we?\n",
      "Model, Criterion, Optimizer Complete\n"
     ]
    }
   ],
   "source": [
    "Utils.set_model_related(SpeakerClassifier.SpeakerClassifier)"
   ],
   "metadata": {
    "pycharm": {
     "name": "#%%\n"
    },
    "id": "CtY8bSw2UAQX",
    "executionInfo": {
     "status": "aborted",
     "timestamp": 1688984385401,
     "user_tz": -480,
     "elapsed": 7,
     "user": {
      "displayName": "Chieh-Hung Cheng",
      "userId": "08338419796432546381"
     }
    }
   }
  },
  {
   "cell_type": "code",
   "execution_count": 10,
   "outputs": [
    {
     "data": {
      "text/plain": "SpeakerClassifier(\n  (net): Sequential(\n    (0): Linear(in_features=40, out_features=80, bias=True)\n    (1): ConformerBlock(\n      (linear_layer): Linear(in_features=80, out_features=80, bias=True)\n      (MHSA_M): MHSA_Module(\n        (layernorm): LayerNorm((80,), eps=1e-05, elementwise_affine=True)\n        (attention): MultiheadAttention(\n          (out_proj): NonDynamicallyQuantizableLinear(in_features=80, out_features=80, bias=True)\n        )\n        (query_matrix): Linear(in_features=80, out_features=80, bias=True)\n        (key_matrix): Linear(in_features=80, out_features=80, bias=True)\n        (value_matrix): Linear(in_features=80, out_features=80, bias=True)\n        (dropout): Dropout(p=0.5, inplace=False)\n      )\n      (conv_module): ConvolutionModule(\n        (layernorm): LayerNorm((80,), eps=1e-05, elementwise_affine=True)\n        (conv_pointwise_first): Conv1d(80, 160, kernel_size=(1,), stride=(1,))\n        (glu): GLU(dim=1)\n        (conv_depthwise): Conv1d(80, 80, kernel_size=(3,), stride=(1,), padding=(1,), groups=80)\n        (bn): BatchNorm1d(80, eps=1e-05, momentum=0.1, affine=True, track_running_stats=True)\n        (swish): SiLU()\n        (conv_pointwise_second): Conv1d(80, 80, kernel_size=(1,), stride=(1,))\n        (dropout): Dropout(p=0.5, inplace=False)\n      )\n      (layer_norm): LayerNorm((80,), eps=1e-05, elementwise_affine=True)\n    )\n  )\n  (fc): Sequential(\n    (0): Linear(in_features=80, out_features=80, bias=True)\n    (1): ReLU()\n    (2): Linear(in_features=80, out_features=600, bias=True)\n  )\n)"
     },
     "execution_count": 10,
     "metadata": {},
     "output_type": "execute_result"
    }
   ],
   "source": [
    "Config.model"
   ],
   "metadata": {
    "collapsed": false,
    "pycharm": {
     "name": "#%%\n"
    }
   }
  },
  {
   "cell_type": "markdown",
   "source": [
    "# Training"
   ],
   "metadata": {
    "collapsed": false,
    "pycharm": {
     "name": "#%% md\n"
    },
    "id": "VHEO6MBfUAQX"
   }
  },
  {
   "cell_type": "code",
   "execution_count": 11,
   "outputs": [
    {
     "data": {
      "text/plain": "<module 'Trainer' from 'G:\\\\My Drive\\\\Chronical\\\\2023Spring\\\\ML_drive\\\\MLHW4\\\\Trainer.py'>"
     },
     "execution_count": 11,
     "metadata": {},
     "output_type": "execute_result"
    }
   ],
   "source": [
    "import Trainer\n",
    "importlib.reload(Trainer)"
   ],
   "metadata": {
    "pycharm": {
     "name": "#%%\n"
    },
    "id": "_kHP97yOUAQX",
    "executionInfo": {
     "status": "aborted",
     "timestamp": 1688984385401,
     "user_tz": -480,
     "elapsed": 7,
     "user": {
      "displayName": "Chieh-Hung Cheng",
      "userId": "08338419796432546381"
     }
    }
   }
  },
  {
   "cell_type": "code",
   "execution_count": null,
   "outputs": [
    {
     "name": "stderr",
     "output_type": "stream",
     "text": [
      "Valid model_19280716:   9%|▉         | 27/300 [11:57<1:58:32, 26.05s/it, valid_loss=2.629, valid_accuracy=47.369%, best_accuracy=48.270%, strolling=1]"
     ]
    }
   ],
   "source": [
    "trainer = Trainer.Trainer()\n",
    "trainer.train_loop()"
   ],
   "metadata": {
    "pycharm": {
     "name": "#%%\n",
     "is_executing": true
    },
    "id": "-EmCtJ6zUAQY",
    "executionInfo": {
     "status": "aborted",
     "timestamp": 1688984385402,
     "user_tz": -480,
     "elapsed": 8,
     "user": {
      "displayName": "Chieh-Hung Cheng",
      "userId": "08338419796432546381"
     }
    }
   }
  },
  {
   "cell_type": "markdown",
   "source": [
    "# Testing"
   ],
   "metadata": {
    "collapsed": false,
    "pycharm": {
     "name": "#%% md\n"
    },
    "id": "t8nSlf5pUAQY"
   }
  },
  {
   "cell_type": "code",
   "execution_count": null,
   "outputs": [],
   "source": [
    "import Inferencer\n",
    "importlib.reload(Inferencer)"
   ],
   "metadata": {
    "collapsed": false,
    "pycharm": {
     "name": "#%%\n",
     "is_executing": true
    }
   }
  },
  {
   "cell_type": "code",
   "execution_count": null,
   "outputs": [],
   "source": [
    "test_dataset = SpeakerData.SpeakerTestDataset()"
   ],
   "metadata": {
    "collapsed": false,
    "pycharm": {
     "name": "#%%\n",
     "is_executing": true
    }
   }
  },
  {
   "cell_type": "code",
   "execution_count": null,
   "outputs": [],
   "source": [
    "Config.set_test_loader(test_dataset, SpeakerData.test_collate_function)"
   ],
   "metadata": {
    "collapsed": false,
    "pycharm": {
     "name": "#%%\n",
     "is_executing": true
    }
   }
  },
  {
   "cell_type": "code",
   "execution_count": null,
   "outputs": [],
   "source": [
    "Config.load_model(\"15010714\", SpeakerClassifier)\n",
    "inferencer = Inferencer.Inferencer()\n",
    "inferencer.infer()"
   ],
   "metadata": {
    "collapsed": false,
    "pycharm": {
     "name": "#%%\n",
     "is_executing": true
    }
   }
  }
 ],
 "metadata": {
  "kernelspec": {
   "display_name": "Python 3",
   "language": "python",
   "name": "python3"
  },
  "language_info": {
   "codemirror_mode": {
    "name": "ipython",
    "version": 2
   },
   "file_extension": ".py",
   "mimetype": "text/x-python",
   "name": "python",
   "nbconvert_exporter": "python",
   "pygments_lexer": "ipython2",
   "version": "2.7.6"
  },
  "colab": {
   "provenance": []
  }
 },
 "nbformat": 4,
 "nbformat_minor": 0
}