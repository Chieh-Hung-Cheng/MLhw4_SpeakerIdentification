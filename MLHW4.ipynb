{
 "cells": [
  {
   "cell_type": "code",
   "execution_count": 1,
   "outputs": [
    {
     "name": "stdout",
     "output_type": "stream",
     "text": [
      "Imports Done\n"
     ]
    }
   ],
   "source": [
    "# IMPORTS\n",
    "# Numerical Operations\n",
    "import math\n",
    "import numpy as np\n",
    "\n",
    "# Reading/Writing Data\n",
    "import pandas as pd\n",
    "import os\n",
    "import csv\n",
    "\n",
    "# For Progress Bar\n",
    "from tqdm import tqdm\n",
    "\n",
    "# Pytorch\n",
    "import torch\n",
    "import torch.nn as nn\n",
    "from torch.utils.data import Dataset, DataLoader, random_split\n",
    "\n",
    "# For plotting learning curve\n",
    "from torch.utils.tensorboard import SummaryWriter\n",
    "\n",
    "# Other Common Modules\n",
    "from datetime import datetime, timedelta\n",
    "import importlib\n",
    "\n",
    "# IMPORT COMPLETE\n",
    "print(\"Imports Done\")"
   ],
   "metadata": {
    "collapsed": false,
    "pycharm": {
     "name": "#%%\n"
    }
   }
  },
  {
   "cell_type": "code",
   "execution_count": 2,
   "outputs": [
    {
     "name": "stdout",
     "output_type": "stream",
     "text": [
      "Running on Local\n"
     ]
    }
   ],
   "source": [
    "local_flag = None\n",
    "if 'google.colab' in str(get_ipython()):\n",
    "    print('Running on CoLab')\n",
    "    local_flag = False\n",
    "    from google.colab import drive\n",
    "    drive.mount('/content/drive')\n",
    "    os.chdir(\"/content/drive/MyDrive/Chronical/2023Spring/ML_drive/MLHW4/\")\n",
    "\n",
    "else:\n",
    "    print('Running on Local')\n",
    "    local_flag = True"
   ],
   "metadata": {
    "collapsed": false,
    "pycharm": {
     "name": "#%%\n"
    }
   }
  },
  {
   "cell_type": "code",
   "execution_count": 3,
   "outputs": [],
   "source": [
    "import Config\n",
    "importlib.reload(Config)\n",
    "from Config import Config"
   ],
   "metadata": {
    "pycharm": {
     "name": "#%%\n"
    },
    "id": "U_nihHSPUAQT",
    "executionInfo": {
     "status": "aborted",
     "timestamp": 1688984385399,
     "user_tz": -480,
     "elapsed": 5,
     "user": {
      "displayName": "Chieh-Hung Cheng",
      "userId": "08338419796432546381"
     }
    }
   }
  },
  {
   "cell_type": "code",
   "execution_count": 4,
   "outputs": [
    {
     "name": "stdout",
     "output_type": "stream",
     "text": [
      "Config.base_path='G:\\\\My Drive\\\\Chronical\\\\2023Spring\\\\ML_drive\\\\MLHW4'\n",
      "Config.data_path='D:\\\\ML_Dataset\\\\HW4\\\\Dataset'\n",
      "Config.save_path='G:\\\\My Drive\\\\Chronical\\\\2023Spring\\\\ML_drive\\\\MLHW4\\\\.model'\n",
      "Config.output_path='G:\\\\My Drive\\\\Chronical\\\\2023Spring\\\\ML_drive\\\\MLHW4\\\\output'\n",
      "Config.time_string='01310716'\n",
      "Randomness Fixed\n"
     ]
    }
   ],
   "source": [
    "# RANDOMNESS FIXED\n",
    "import Utils\n",
    "importlib.reload(Utils)\n",
    "from Utils import Utils\n",
    "Utils.initialize_time_path(local_flag)\n",
    "Utils.fix_randomness()"
   ],
   "metadata": {
    "pycharm": {
     "name": "#%%\n"
    },
    "id": "48NI2CbKUAQU",
    "executionInfo": {
     "status": "aborted",
     "timestamp": 1688984385400,
     "user_tz": -480,
     "elapsed": 6,
     "user": {
      "displayName": "Chieh-Hung Cheng",
      "userId": "08338419796432546381"
     }
    }
   }
  },
  {
   "cell_type": "markdown",
   "source": [
    "# Dataset and DataLoader"
   ],
   "metadata": {
    "collapsed": false,
    "pycharm": {
     "name": "#%% md\n"
    },
    "id": "_IC-wBLQUAQU"
   }
  },
  {
   "cell_type": "code",
   "execution_count": 5,
   "outputs": [
    {
     "data": {
      "text/plain": "<module 'SpeakerData' from 'G:\\\\My Drive\\\\Chronical\\\\2023Spring\\\\ML_drive\\\\MLHW4\\\\SpeakerData.py'>"
     },
     "execution_count": 5,
     "metadata": {},
     "output_type": "execute_result"
    }
   ],
   "source": [
    "import SpeakerData\n",
    "importlib.reload(SpeakerData)"
   ],
   "metadata": {
    "pycharm": {
     "name": "#%%\n"
    },
    "id": "JJI8aQsaUAQV",
    "executionInfo": {
     "status": "aborted",
     "timestamp": 1688984385400,
     "user_tz": -480,
     "elapsed": 6,
     "user": {
      "displayName": "Chieh-Hung Cheng",
      "userId": "08338419796432546381"
     }
    }
   }
  },
  {
   "cell_type": "code",
   "execution_count": 6,
   "outputs": [],
   "source": [
    "train_dataset = SpeakerData.SpeakerTrainValidDataset()\n",
    "train_dataset, valid_dataset = Utils.split_train_valid_dataset(train_dataset)"
   ],
   "metadata": {
    "collapsed": false,
    "pycharm": {
     "name": "#%%\n"
    }
   }
  },
  {
   "cell_type": "code",
   "execution_count": 7,
   "outputs": [
    {
     "name": "stdout",
     "output_type": "stream",
     "text": [
      "Train, Valid DataLoader Complete\n"
     ]
    }
   ],
   "source": [
    "Utils.set_train_valid_loader(train_dataset, valid_dataset, SpeakerData.collate_function)"
   ],
   "metadata": {
    "pycharm": {
     "name": "#%%\n"
    },
    "id": "x4IG9ty3UAQW",
    "executionInfo": {
     "status": "aborted",
     "timestamp": 1688984385401,
     "user_tz": -480,
     "elapsed": 7,
     "user": {
      "displayName": "Chieh-Hung Cheng",
      "userId": "08338419796432546381"
     }
    }
   }
  },
  {
   "cell_type": "markdown",
   "source": [
    "# Models"
   ],
   "metadata": {
    "collapsed": false,
    "pycharm": {
     "name": "#%% md\n"
    },
    "id": "wOeXJ6rBUAQW"
   }
  },
  {
   "cell_type": "code",
   "execution_count": 8,
   "outputs": [
    {
     "data": {
      "text/plain": "<module 'SpeakerClassifier' from 'G:\\\\My Drive\\\\Chronical\\\\2023Spring\\\\ML_drive\\\\MLHW4\\\\SpeakerClassifier.py'>"
     },
     "execution_count": 8,
     "metadata": {},
     "output_type": "execute_result"
    }
   ],
   "source": [
    "import SpeakerClassifier\n",
    "importlib.reload(SpeakerClassifier)"
   ],
   "metadata": {
    "pycharm": {
     "name": "#%%\n"
    },
    "id": "8tQsWjDaUAQX",
    "executionInfo": {
     "status": "aborted",
     "timestamp": 1688984385401,
     "user_tz": -480,
     "elapsed": 7,
     "user": {
      "displayName": "Chieh-Hung Cheng",
      "userId": "08338419796432546381"
     }
    }
   }
  },
  {
   "cell_type": "code",
   "execution_count": 9,
   "outputs": [
    {
     "name": "stdout",
     "output_type": "stream",
     "text": [
      "Training a new model...\n",
      "Model, Criterion, Optimizer Complete\n"
     ]
    }
   ],
   "source": [
    "Utils.set_model_related(SpeakerClassifier.SpeakerClassifier)"
   ],
   "metadata": {
    "pycharm": {
     "name": "#%%\n"
    },
    "id": "CtY8bSw2UAQX",
    "executionInfo": {
     "status": "aborted",
     "timestamp": 1688984385401,
     "user_tz": -480,
     "elapsed": 7,
     "user": {
      "displayName": "Chieh-Hung Cheng",
      "userId": "08338419796432546381"
     }
    }
   }
  },
  {
   "cell_type": "markdown",
   "source": [
    "# Training"
   ],
   "metadata": {
    "collapsed": false,
    "pycharm": {
     "name": "#%% md\n"
    },
    "id": "VHEO6MBfUAQX"
   }
  },
  {
   "cell_type": "code",
   "execution_count": 10,
   "outputs": [
    {
     "data": {
      "text/plain": "<module 'Trainer' from 'G:\\\\My Drive\\\\Chronical\\\\2023Spring\\\\ML_drive\\\\MLHW4\\\\Trainer.py'>"
     },
     "execution_count": 10,
     "metadata": {},
     "output_type": "execute_result"
    }
   ],
   "source": [
    "import Trainer\n",
    "importlib.reload(Trainer)"
   ],
   "metadata": {
    "pycharm": {
     "name": "#%%\n"
    },
    "id": "_kHP97yOUAQX",
    "executionInfo": {
     "status": "aborted",
     "timestamp": 1688984385401,
     "user_tz": -480,
     "elapsed": 7,
     "user": {
      "displayName": "Chieh-Hung Cheng",
      "userId": "08338419796432546381"
     }
    }
   }
  },
  {
   "cell_type": "code",
   "execution_count": 11,
   "outputs": [
    {
     "name": "stderr",
     "output_type": "stream",
     "text": [
      "Train model_01310716: 0/70000: 100%|██████████| 6375/6375 [00:50<00:00, 125.11it/s, train_loss=4.421]\n",
      "Valid model_01310716: 0/70000: 100%|██████████| 708/708 [00:18<00:00, 38.14it/s, valid_loss=5.602, valid_accuracy=13.189%] \n"
     ]
    },
    {
     "name": "stdout",
     "output_type": "stream",
     "text": [
      "train_loss=5.052, valid_loss=4.317, valid_accuracy=13.189%, best_accuracy=13.189%, strolling=0\n"
     ]
    },
    {
     "name": "stderr",
     "output_type": "stream",
     "text": [
      "Train model_01310716: 1/70000: 100%|██████████| 6375/6375 [00:56<00:00, 112.31it/s, train_loss=5.662]\n",
      "Valid model_01310716: 1/70000: 100%|██████████| 708/708 [00:17<00:00, 39.92it/s, valid_loss=4.729, valid_accuracy=18.662%] \n"
     ]
    },
    {
     "name": "stdout",
     "output_type": "stream",
     "text": [
      "train_loss=3.922, valid_loss=3.904, valid_accuracy=18.662%, best_accuracy=18.662%, strolling=0\n"
     ]
    },
    {
     "name": "stderr",
     "output_type": "stream",
     "text": [
      "Train model_01310716: 2/70000: 100%|██████████| 6375/6375 [00:49<00:00, 127.98it/s, train_loss=6.057]\n",
      "Valid model_01310716: 2/70000: 100%|██████████| 708/708 [00:18<00:00, 38.59it/s, valid_loss=3.224, valid_accuracy=26.201%] \n"
     ]
    },
    {
     "name": "stdout",
     "output_type": "stream",
     "text": [
      "train_loss=3.496, valid_loss=3.484, valid_accuracy=26.201%, best_accuracy=26.201%, strolling=0\n"
     ]
    },
    {
     "name": "stderr",
     "output_type": "stream",
     "text": [
      "Train model_01310716: 3/70000: 100%|██████████| 6375/6375 [00:50<00:00, 126.33it/s, train_loss=3.462]\n",
      "Valid model_01310716: 3/70000: 100%|██████████| 708/708 [00:18<00:00, 38.00it/s, valid_loss=3.138, valid_accuracy=29.961%] \n"
     ]
    },
    {
     "name": "stdout",
     "output_type": "stream",
     "text": [
      "train_loss=3.202, valid_loss=3.237, valid_accuracy=29.961%, best_accuracy=29.961%, strolling=0\n"
     ]
    },
    {
     "name": "stderr",
     "output_type": "stream",
     "text": [
      "Train model_01310716: 4/70000:   9%|▊         | 551/6375 [00:17<03:08, 30.86it/s, train_loss=4.077] \n"
     ]
    },
    {
     "ename": "KeyboardInterrupt",
     "evalue": "",
     "output_type": "error",
     "traceback": [
      "\u001B[1;31m---------------------------------------------------------------------------\u001B[0m",
      "\u001B[1;31mKeyboardInterrupt\u001B[0m                         Traceback (most recent call last)",
      "Cell \u001B[1;32mIn[11], line 2\u001B[0m\n\u001B[0;32m      1\u001B[0m trainer \u001B[38;5;241m=\u001B[39m Trainer\u001B[38;5;241m.\u001B[39mTrainer()\n\u001B[1;32m----> 2\u001B[0m \u001B[43mtrainer\u001B[49m\u001B[38;5;241;43m.\u001B[39;49m\u001B[43mtrain_loop\u001B[49m\u001B[43m(\u001B[49m\u001B[43m)\u001B[49m\n",
      "File \u001B[1;32mG:\\My Drive\\Chronical\\2023Spring\\ML_drive\\MLHW4\\Trainer.py:99\u001B[0m, in \u001B[0;36mTrainer.train_loop\u001B[1;34m(self)\u001B[0m\n\u001B[0;32m     97\u001B[0m \u001B[38;5;28mself\u001B[39m\u001B[38;5;241m.\u001B[39mepoch_num \u001B[38;5;241m=\u001B[39m epoch\n\u001B[0;32m     98\u001B[0m \u001B[38;5;66;03m# Train\u001B[39;00m\n\u001B[1;32m---> 99\u001B[0m train_loss \u001B[38;5;241m=\u001B[39m \u001B[38;5;28;43mself\u001B[39;49m\u001B[38;5;241;43m.\u001B[39;49m\u001B[43mtrain\u001B[49m\u001B[43m(\u001B[49m\u001B[43m)\u001B[49m\n\u001B[0;32m    100\u001B[0m \u001B[38;5;66;03m# Validate\u001B[39;00m\n\u001B[0;32m    101\u001B[0m valid_loss, valid_accuracy \u001B[38;5;241m=\u001B[39m \u001B[38;5;28mself\u001B[39m\u001B[38;5;241m.\u001B[39mvalidate()\n",
      "File \u001B[1;32mG:\\My Drive\\Chronical\\2023Spring\\ML_drive\\MLHW4\\Trainer.py:33\u001B[0m, in \u001B[0;36mTrainer.train\u001B[1;34m(self)\u001B[0m\n\u001B[0;32m     31\u001B[0m \u001B[38;5;66;03m# Update Parameter\u001B[39;00m\n\u001B[0;32m     32\u001B[0m Config\u001B[38;5;241m.\u001B[39moptimizer\u001B[38;5;241m.\u001B[39mzero_grad()\n\u001B[1;32m---> 33\u001B[0m \u001B[43mloss\u001B[49m\u001B[38;5;241;43m.\u001B[39;49m\u001B[43mbackward\u001B[49m\u001B[43m(\u001B[49m\u001B[43m)\u001B[49m\n\u001B[0;32m     34\u001B[0m Config\u001B[38;5;241m.\u001B[39moptimizer\u001B[38;5;241m.\u001B[39mstep()\n\u001B[0;32m     35\u001B[0m Config\u001B[38;5;241m.\u001B[39mscheduler\u001B[38;5;241m.\u001B[39mstep()\n",
      "File \u001B[1;32m~\\.conda\\envs\\default\\lib\\site-packages\\torch\\_tensor.py:487\u001B[0m, in \u001B[0;36mTensor.backward\u001B[1;34m(self, gradient, retain_graph, create_graph, inputs)\u001B[0m\n\u001B[0;32m    477\u001B[0m \u001B[38;5;28;01mif\u001B[39;00m has_torch_function_unary(\u001B[38;5;28mself\u001B[39m):\n\u001B[0;32m    478\u001B[0m     \u001B[38;5;28;01mreturn\u001B[39;00m handle_torch_function(\n\u001B[0;32m    479\u001B[0m         Tensor\u001B[38;5;241m.\u001B[39mbackward,\n\u001B[0;32m    480\u001B[0m         (\u001B[38;5;28mself\u001B[39m,),\n\u001B[1;32m   (...)\u001B[0m\n\u001B[0;32m    485\u001B[0m         inputs\u001B[38;5;241m=\u001B[39minputs,\n\u001B[0;32m    486\u001B[0m     )\n\u001B[1;32m--> 487\u001B[0m \u001B[43mtorch\u001B[49m\u001B[38;5;241;43m.\u001B[39;49m\u001B[43mautograd\u001B[49m\u001B[38;5;241;43m.\u001B[39;49m\u001B[43mbackward\u001B[49m\u001B[43m(\u001B[49m\n\u001B[0;32m    488\u001B[0m \u001B[43m    \u001B[49m\u001B[38;5;28;43mself\u001B[39;49m\u001B[43m,\u001B[49m\u001B[43m \u001B[49m\u001B[43mgradient\u001B[49m\u001B[43m,\u001B[49m\u001B[43m \u001B[49m\u001B[43mretain_graph\u001B[49m\u001B[43m,\u001B[49m\u001B[43m \u001B[49m\u001B[43mcreate_graph\u001B[49m\u001B[43m,\u001B[49m\u001B[43m \u001B[49m\u001B[43minputs\u001B[49m\u001B[38;5;241;43m=\u001B[39;49m\u001B[43minputs\u001B[49m\n\u001B[0;32m    489\u001B[0m \u001B[43m\u001B[49m\u001B[43m)\u001B[49m\n",
      "File \u001B[1;32m~\\.conda\\envs\\default\\lib\\site-packages\\torch\\autograd\\__init__.py:200\u001B[0m, in \u001B[0;36mbackward\u001B[1;34m(tensors, grad_tensors, retain_graph, create_graph, grad_variables, inputs)\u001B[0m\n\u001B[0;32m    195\u001B[0m     retain_graph \u001B[38;5;241m=\u001B[39m create_graph\n\u001B[0;32m    197\u001B[0m \u001B[38;5;66;03m# The reason we repeat same the comment below is that\u001B[39;00m\n\u001B[0;32m    198\u001B[0m \u001B[38;5;66;03m# some Python versions print out the first line of a multi-line function\u001B[39;00m\n\u001B[0;32m    199\u001B[0m \u001B[38;5;66;03m# calls in the traceback and some print out the last line\u001B[39;00m\n\u001B[1;32m--> 200\u001B[0m \u001B[43mVariable\u001B[49m\u001B[38;5;241;43m.\u001B[39;49m\u001B[43m_execution_engine\u001B[49m\u001B[38;5;241;43m.\u001B[39;49m\u001B[43mrun_backward\u001B[49m\u001B[43m(\u001B[49m\u001B[43m  \u001B[49m\u001B[38;5;66;43;03m# Calls into the C++ engine to run the backward pass\u001B[39;49;00m\n\u001B[0;32m    201\u001B[0m \u001B[43m    \u001B[49m\u001B[43mtensors\u001B[49m\u001B[43m,\u001B[49m\u001B[43m \u001B[49m\u001B[43mgrad_tensors_\u001B[49m\u001B[43m,\u001B[49m\u001B[43m \u001B[49m\u001B[43mretain_graph\u001B[49m\u001B[43m,\u001B[49m\u001B[43m \u001B[49m\u001B[43mcreate_graph\u001B[49m\u001B[43m,\u001B[49m\u001B[43m \u001B[49m\u001B[43minputs\u001B[49m\u001B[43m,\u001B[49m\n\u001B[0;32m    202\u001B[0m \u001B[43m    \u001B[49m\u001B[43mallow_unreachable\u001B[49m\u001B[38;5;241;43m=\u001B[39;49m\u001B[38;5;28;43;01mTrue\u001B[39;49;00m\u001B[43m,\u001B[49m\u001B[43m \u001B[49m\u001B[43maccumulate_grad\u001B[49m\u001B[38;5;241;43m=\u001B[39;49m\u001B[38;5;28;43;01mTrue\u001B[39;49;00m\u001B[43m)\u001B[49m\n",
      "\u001B[1;31mKeyboardInterrupt\u001B[0m: "
     ]
    }
   ],
   "source": [
    "trainer = Trainer.Trainer()\n",
    "trainer.train_loop()"
   ],
   "metadata": {
    "pycharm": {
     "name": "#%%\n"
    },
    "id": "-EmCtJ6zUAQY",
    "executionInfo": {
     "status": "aborted",
     "timestamp": 1688984385402,
     "user_tz": -480,
     "elapsed": 8,
     "user": {
      "displayName": "Chieh-Hung Cheng",
      "userId": "08338419796432546381"
     }
    }
   }
  },
  {
   "cell_type": "markdown",
   "source": [
    "# Testing"
   ],
   "metadata": {
    "collapsed": false,
    "pycharm": {
     "name": "#%% md\n"
    },
    "id": "t8nSlf5pUAQY"
   }
  },
  {
   "cell_type": "code",
   "execution_count": null,
   "outputs": [],
   "source": [
    "import Inferencer\n",
    "importlib.reload(Inferencer)"
   ],
   "metadata": {
    "collapsed": false,
    "pycharm": {
     "name": "#%%\n"
    }
   }
  },
  {
   "cell_type": "code",
   "execution_count": null,
   "outputs": [],
   "source": [
    "test_dataset = SpeakerData.SpeakerTestDataset()"
   ],
   "metadata": {
    "collapsed": false,
    "pycharm": {
     "name": "#%%\n"
    }
   }
  },
  {
   "cell_type": "code",
   "execution_count": null,
   "outputs": [],
   "source": [
    "Config.set_test_loader(test_dataset, SpeakerData.test_collate_function)"
   ],
   "metadata": {
    "collapsed": false,
    "pycharm": {
     "name": "#%%\n"
    }
   }
  },
  {
   "cell_type": "code",
   "execution_count": null,
   "outputs": [],
   "source": [
    "Config.load_model(\"15010714\", SpeakerClassifier)\n",
    "inferencer = Inferencer.Inferencer()\n",
    "inferencer.infer()"
   ],
   "metadata": {
    "collapsed": false,
    "pycharm": {
     "name": "#%%\n"
    }
   }
  }
 ],
 "metadata": {
  "kernelspec": {
   "display_name": "Python 3",
   "language": "python",
   "name": "python3"
  },
  "language_info": {
   "codemirror_mode": {
    "name": "ipython",
    "version": 2
   },
   "file_extension": ".py",
   "mimetype": "text/x-python",
   "name": "python",
   "nbconvert_exporter": "python",
   "pygments_lexer": "ipython2",
   "version": "2.7.6"
  },
  "colab": {
   "provenance": []
  }
 },
 "nbformat": 4,
 "nbformat_minor": 0
}